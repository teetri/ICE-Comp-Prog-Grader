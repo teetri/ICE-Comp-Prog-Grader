{
 "cells": [
  {
   "cell_type": "markdown",
   "metadata": {
    "id": "xaO6ydwuTSae"
   },
   "source": [
    "# Assignment #3: Movie Dictionary Database\n",
    "\n",
    "In this problem, we aim to load movie data into a dictionary and summarize it by genre.\n",
    "\n",
    "Please read all the details [here](https://docs.google.com/document/d/1FGQUzzsBuDdVCoW7nJG6IHDnlbJd58Q9BS76gMlS01A/edit?usp=sharing)."
   ]
  },
  {
   "cell_type": "markdown",
   "metadata": {
    "id": "YAq-m9r53V0E"
   },
   "source": [
    "# **Important**\n",
    "- Do not delete or modify the first line in the given code cell.\n",
    "- You work must be add in the provided area only. \n",
    "- You must not change the declaration of the provided functions.\n",
    "- You are allowed to add your own functions.\n",
    "- If you want to write your own program to test, add new code cell at the very end of the file and add your code there.\n"
   ]
  },
  {
   "cell_type": "code",
   "execution_count": 5,
   "metadata": {
    "id": "-CyvL6w9BEEu"
   },
   "outputs": [
    {
     "name": "stdout",
     "output_type": "stream",
     "text": [
      "  % Total    % Received % Xferd  Average Speed   Time    Time     Time  Current\n",
      "                                 Dload  Upload   Total   Spent    Left  Speed\n",
      "100  269k  100  269k    0     0   468k      0 --:--:-- --:--:-- --:--:--     0474k\n"
     ]
    }
   ],
   "source": [
    "# Full data (import_movies.redis)\n",
    "!curl https://raw.githubusercontent.com/redis-developer/redis-datasets/movie-dataset/movie-database/import_movies.redis > import_movies.redis\n",
    "\n",
    "file = open(\"import_movies.redis\", encoding='utf8')\n",
    "lines = file.readlines()\n",
    "file.close()"
   ]
  },
  {
   "cell_type": "code",
   "execution_count": 6,
   "metadata": {
    "id": "Wo7aBYsTBak0"
   },
   "outputs": [],
   "source": [
    "# Small sample data (import_movies_small.redis)\n",
    "# !curl https://dl.dropboxusercontent.com/s/id6d0qq7ks5y4b3/import_movies_small.redis > import_movies_small.redis\n",
    "\n",
    "# file = open(\"import_movies_small.redis\", encoding='utf8')\n",
    "# lines = file.readlines()\n",
    "# file.close()"
   ]
  },
  {
   "cell_type": "code",
   "execution_count": 7,
   "metadata": {
    "id": "a5V__-HASKdD"
   },
   "outputs": [
    {
     "data": {
      "text/plain": [
       "['HSET \"movie:1\" title \"Guardians of the Galaxy\" genre \"Action\" votes 704613 rating 8.1 release_year 2014 plot \"A group of intergalactic criminals must pull together to stop a fanatical warrior with plans to purge the universe.\" poster \"https://m.media-amazon.com/images/M/MV5BMTAwMjU5OTgxNjZeQTJeQWpwZ15BbWU4MDUxNDYxODEx._V1_SX300.jpg\" ibmdb_id \"tt2015381\" \\n',\n",
       " 'HSET \"movie:2\" title \"Interstellar\" genre \"Adventure\" votes 961763 rating 8.6 release_year 2014 plot \"A team of explorers travel through a wormhole in space in an attempt to ensure humanity\\'s survival.\" poster \"https://m.media-amazon.com/images/M/MV5BZjdkOTU3MDktN2IxOS00OGEyLWFmMjktY2FiMmZkNWIyODZiXkEyXkFqcGdeQXVyMTMxODk2OTU@._V1_SX300.jpg\" ibmdb_id \"tt0816692\" \\n',\n",
       " 'HSET \"movie:3\" title \"The Grand Budapest Hotel\" genre \"Adventure\" votes 492158 rating 8.1 release_year 2014 plot \"A writer encounters the owner of an aging high-class hotel,who tells him of his early years serving as a lobby boy in the hotel\\'s glorious years under an exceptional concierge.\" poster \"https://m.media-amazon.com/images/M/MV5BMzM5NjUxOTEyMl5BMl5BanBnXkFtZTgwNjEyMDM0MDE@._V1_SX300.jpg\" ibmdb_id \"tt2278388\" \\n',\n",
       " 'HSET \"movie:4\" title \"Gone Girl\" genre \"Crime\" votes 589116 rating 8.1 release_year 2014 plot \"With his wife\\'s disappearance having become the focus of an intense media circus,a man sees the spotlight turned on him when it\\'s suspected that he may not be innocent.\" poster \"https://m.media-amazon.com/images/M/MV5BMTk0MDQ3MzAzOV5BMl5BanBnXkFtZTgwNzU1NzE3MjE@._V1_UX182_CR0,0,182,268_AL_.jpg\" ibmdb_id \"tt2267998\" \\n',\n",
       " 'HSET \"movie:5\" title \"The Imitation Game\" genre \"Biography\" votes 489175 rating 8.1 release_year 2014 \\n',\n",
       " 'HSET \"movie:6\" title \"John Wick\" genre \"Action\" votes 503014 rating 7.4 release_year 2014 plot \"An ex-hit-man comes out of retirement to track down the gangsters that killed his dog and took everything from him.\" poster \"https://m.media-amazon.com/images/M/MV5BMTU2NjA1ODgzMF5BMl5BanBnXkFtZTgwMTM2MTI4MjE@._V1_UX182_CR0,0,182,268_AL_.jpg\" ibmdb_id \"tt2911666\" \\n',\n",
       " 'HSET \"movie:7\" title \"X-Men: Days of Future Past\" genre \"Action\" votes 524078 rating 8.0 release_year 2014 \\n',\n",
       " 'HSET \"movie:8\" title \"Ouija: Origin of Evil\" genre \"Horror\" votes 6144 rating 6.6 release_year 2016 \\n',\n",
       " 'HSET \"movie:9\" title \"The Equalizer\" genre \"Action\" votes 235859 rating 7.2 release_year 2014 \\n',\n",
       " 'HSET \"movie:10\" title \"Maleficent\" genre \"Action\" votes 257707 rating 7.0 release_year 2014 \\n']"
      ]
     },
     "execution_count": 7,
     "metadata": {},
     "output_type": "execute_result"
    }
   ],
   "source": [
    "# # preview 10 movies\n",
    "lines[:10]"
   ]
  },
  {
   "cell_type": "code",
   "execution_count": 14,
   "metadata": {
    "id": "eDJ-MTlRPaut"
   },
   "outputs": [],
   "source": [
    "# MOVIE_DICTIONARY (*** DO NOT DELETE this line or add line before this ***)\n",
    "# Only add your code in the provided area.\n",
    "# DO NOT delete or modified the given code in main().\n",
    "\n",
    "def load_data_to_movie_dict(lines):\n",
    "    movies = dict()\n",
    "  # Your code here\n",
    "\n",
    "\n",
    "    def replace_all(text, dic):\n",
    "        for i, j in dic.items():\n",
    "            text = text.replace(i, j)\n",
    "        return text\n",
    "\n",
    "\n",
    "    keySep = {\n",
    "        'movie_id': '|movie_id^',\n",
    "        ' title ': '|title^',\n",
    "        ' genre ': '|genre^',\n",
    "        ' votes ': '|votes^',\n",
    "        ' rating ': '|rating^',\n",
    "        ' release_year ': '|release_year^',\n",
    "        ' plot ': '|plot^',\n",
    "        ' poster ': '|poster^',\n",
    "        ' ibmdb_id ': '|ibmdb_id^'\n",
    "    }\n",
    "\n",
    "\n",
    "    def cleanLine(line):\n",
    "        line = line.replace('HSET ', '')\n",
    "        line = line.replace('movie:', 'movie_id')\n",
    "        line = line.replace('\"', '')\n",
    "        line = line.replace('\\\\', '')\n",
    "        line = replace_all(line, keySep)\n",
    "        line = line.split('|')\n",
    "        return line\n",
    "\n",
    "\n",
    "    def toPairs(line):\n",
    "        pairs = []\n",
    "        for i in line:\n",
    "            if i != '':\n",
    "                pairs.append(i.split('^'))\n",
    "        return pairs\n",
    "\n",
    "\n",
    "    def toDict(pairs):\n",
    "        d = {}\n",
    "        # print()\n",
    "        for i in pairs:\n",
    "            # print(i)\n",
    "            # print(i[0].strip(), i[1].strip())\n",
    "            # print()\n",
    "            d[i[0].strip()] = i[1].strip()\n",
    "        return d\n",
    "\n",
    "\n",
    "    def toCorrectType(line):\n",
    "        try:\n",
    "            line['movie_id'] = int(line['movie_id'])\n",
    "        except:\n",
    "            pass\n",
    "        try:\n",
    "            line['votes'] = float(line['votes'])\n",
    "        except:\n",
    "            pass\n",
    "        try:\n",
    "            line['rating'] = float(line['rating'])\n",
    "        except:\n",
    "            pass\n",
    "        try:\n",
    "            line['release_year'] = int(line['release_year'])\n",
    "        except:\n",
    "            pass\n",
    "        return line\n",
    "\n",
    "\n",
    "    def parseLine(line):\n",
    "        line = cleanLine(line)\n",
    "        # print(line)\n",
    "        # print()\n",
    "        line = toPairs(line)\n",
    "        # print(line)\n",
    "        # print()\n",
    "        line = toDict(line)\n",
    "        # print(line)\n",
    "        # print()\n",
    "        line = toCorrectType(line)\n",
    "        # print(line)\n",
    "        # print()\n",
    "\n",
    "        return line\n",
    "\n",
    "\n",
    "    lines = [parseLine(line) for line in lines]\n",
    "\n",
    "\n",
    "    def removeMovieID(d):\n",
    "        return {k: v for k, v in d.items() if k != 'movie_id'}\n",
    "\n",
    "\n",
    "    movies = {a['movie_id']: removeMovieID(a) for a in lines}\n",
    "\n",
    "\n",
    "    return movies\n",
    "\n",
    "#------------------------------------------------------------#\n",
    "\n",
    "def summarize_movies_by_genre(movies):\n",
    "    movies_by_genre = dict()\n",
    "    # Your code here\n",
    "\n",
    "    genres = dict()\n",
    "    for movie in movies:\n",
    "        genre = movies[movie]['genre']\n",
    "        if genre not in genres:\n",
    "                genres[genre] = []\n",
    "        genres[genre].append(movie)\n",
    "\n",
    "    movies_by_genre = genres\n",
    "    \n",
    "    return movies_by_genre\n",
    "\n",
    "#------------------------------------------------------------#\n",
    "\n",
    "def calcualte_genre_stats(movies, movies_by_genre):\n",
    "    genre_stats = dict()\n",
    "    # Your code here\n",
    "    #   genre_stats = dict()\n",
    "    for genre in movies_by_genre:\n",
    "        genre_stats[genre] = dict()\n",
    "        count = len(movies_by_genre[genre])\n",
    "        avg_rating = 0\n",
    "        avg_votes = 0\n",
    "        for movie in movies_by_genre[genre]:\n",
    "            # print(type(movies[movie]['rating']))\n",
    "            # print(movie)\n",
    "            avg_rating += movies[movie]['rating']\n",
    "            avg_votes += movies[movie]['votes']\n",
    "        avg_rating /= count\n",
    "        avg_votes /= count\n",
    "        genre_stats[genre]['num'] = count\n",
    "        genre_stats[genre]['rating'] = round(avg_rating, 2)\n",
    "        genre_stats[genre]['votes'] = round(avg_votes, 2)\n",
    "    \n",
    "    \n",
    "    return genre_stats\n",
    "\n",
    "#------------------------------------------------------------#    \n",
    "# DO NOT DELETE OR MODIFIED THE CODE BELOW\n",
    "#------------------------------------------------------------#\n",
    "\n",
    "from collections import OrderedDict\n",
    "\n",
    "# print \"data\" dict ordered by key\n",
    "# if top is blank, print all members in the data\n",
    "# if details is true, print detailed data\n",
    "#   ; otherwise, print only the number of attributes\n",
    "def print_ordered_dict(data, top='', details=True):\n",
    "  if top == '':\n",
    "    top = len(data)\n",
    "  sorted_ids = sorted(data.keys())[:top]\n",
    "\n",
    "  i = 0\n",
    "  for id in sorted_ids:\n",
    "    if details:\n",
    "      print(id, data[id])\n",
    "    else:\n",
    "      print(id, len(data[id]))\n",
    "\n",
    "#------------------------------------------------------------#\n",
    "# *** MAIN PART ****\n",
    "movies = load_data_to_movie_dict(lines)\n",
    "movies_by_genre = summarize_movies_by_genre(movies)\n",
    "genre_stats = calcualte_genre_stats(movies, movies_by_genre)"
   ]
  },
  {
   "cell_type": "markdown",
   "metadata": {
    "id": "eozJNmMD8hkv"
   },
   "source": [
    "# Test you code\n",
    "\n",
    "To speed up the testing of your program, some of test cases of some functions are given, but might not cover all possibilies.  You should add more test cases using provided test case as an example. \n",
    "\n",
    "Uncomment the test function that you want to test. You results should be similar to the expected output in [the Google Sheet here](https://docs.google.com/spreadsheets/d/1enpJps0zUN0SjZcgMPO9ijzgcDruyO2jsAHazWx1yhY/edit?usp=sharing).\n",
    "\n",
    "**Important!!!** You must run the above code cell without any error before running the test."
   ]
  },
  {
   "cell_type": "code",
   "execution_count": 15,
   "metadata": {
    "id": "V3r47d2Ge36M"
   },
   "outputs": [
    {
     "name": "stdout",
     "output_type": "stream",
     "text": [
      "923\n",
      "25\n",
      "Action 186\n",
      "Adventure 49\n",
      "Animation 46\n",
      "Biography 34\n",
      "Comedy 172\n",
      "Action [1, 6, 7, 9, 10, 12, 13, 15, 19, 20, 22, 24, 25, 26, 27, 35, 36, 39, 41, 45, 48, 56, 57, 59, 60, 62, 63, 69, 74, 76, 80, 82, 99, 104, 107, 108, 112, 113, 119, 120, 124, 137, 140, 141, 142, 152, 161, 163, 168, 172, 173, 175, 180, 181, 195, 197, 198, 199, 201, 204, 208, 212, 214, 219, 220, 221, 222, 225, 226, 231, 232, 233, 238, 240, 248, 250, 252, 253, 256, 262, 264, 265, 267, 268, 272, 276, 278, 279, 280, 283, 284, 295, 286, 290, 291, 292, 288, 293, 294, 101, 289, 287, 301, 304, 309, 312, 316, 317, 319, 325, 328, 332, 334, 339, 341, 343, 344, 345, 348, 351, 354, 21, 129, 358, 360, 361, 364, 365, 372, 376, 379, 386, 390, 394, 397, 425, 473, 494, 527, 542, 581, 586, 590, 592, 648, 650, 666, 677, 697, 728, 731, 733, 737, 761, 783, 785, 797, 807, 831, 836, 892, 898, 900, 905, 915, 923, 932, 940, 961, 972, 980, 981, 982, 988, 1057, 1062, 1075, 1076, 1078, 1080, 1082, 1083, 1097, 1101, 1126, 1137]\n",
      "Adventure [2, 3, 18, 29, 47, 89, 102, 109, 121, 144, 151, 166, 170, 171, 176, 207, 217, 223, 239, 244, 255, 305, 307, 310, 322, 338, 367, 369, 370, 392, 454, 466, 475, 482, 497, 498, 570, 582, 633, 637, 659, 771, 779, 893, 911, 916, 1112, 1115, 1127]\n",
      "Animation [23, 42, 46, 127, 165, 178, 191, 200, 210, 218, 230, 257, 258, 271, 308, 313, 335, 353, 359, 374, 410, 412, 418, 436, 467, 471, 480, 481, 488, 501, 504, 601, 607, 611, 624, 625, 682, 812, 813, 931, 946, 1007, 1011, 1021, 1023, 1091]\n",
      "Biography [5, 16, 50, 51, 88, 103, 106, 111, 114, 123, 128, 135, 145, 182, 183, 209, 224, 227, 243, 247, 261, 263, 274, 321, 340, 346, 479, 485, 492, 543, 698, 930, 1099, 1134]\n",
      "Comedy [31, 34, 40, 43, 53, 54, 66, 67, 68, 71, 75, 77, 79, 81, 83, 87, 91, 98, 118, 136, 148, 149, 155, 159, 169, 177, 179, 185, 187, 189, 190, 193, 196, 205, 211, 213, 249, 260, 266, 269, 273, 275, 298, 299, 318, 320, 323, 324, 326, 327, 331, 333, 350, 352, 251, 363, 375, 378, 380, 381, 382, 389, 403, 408, 411, 413, 415, 421, 422, 424, 441, 445, 462, 464, 465, 469, 470, 474, 478, 484, 496, 505, 508, 510, 513, 522, 549, 551, 555, 561, 571, 574, 584, 593, 602, 604, 616, 622, 626, 631, 642, 652, 654, 656, 660, 662, 663, 665, 668, 671, 675, 683, 685, 686, 691, 695, 707, 716, 718, 721, 739, 741, 751, 763, 764, 765, 767, 770, 772, 773, 781, 786, 789, 791, 792, 798, 801, 802, 806, 814, 815, 818, 822, 830, 832, 863, 875, 880, 889, 904, 908, 909, 917, 920, 926, 947, 978, 1002, 1028, 1041, 1047, 1060, 1074, 1079, 1081, 1085, 1086, 1090, 1094, 1114, 1120, 1138]\n",
      "Action {'count': 186, 'rating': 6.51, 'votes': 187336.3}\n",
      "Adventure {'count': 49, 'rating': 6.62, 'votes': 145701.29}\n",
      "Animation {'count': 46, 'rating': 7.12, 'votes': 58185.52}\n",
      "Biography {'count': 34, 'rating': 7.22, 'votes': 80150.53}\n",
      "Comedy {'count': 172, 'rating': 6.22, 'votes': 40237.16}\n"
     ]
    }
   ],
   "source": [
    "print(len(movies))\n",
    "#print_ordered_dict(data=movies, top=200, details=False) # print attributes (Google Sheet1)\n",
    "#print_ordered_dict(data=movies, top=200, details=True) # print data (Google Sheet2)\n",
    " \n",
    "print(len(movies_by_genre))\n",
    "print_ordered_dict(data=movies_by_genre, top=5, details=False) # print attributes (Google Sheet3)\n",
    "print_ordered_dict(data=movies_by_genre, top=5) # print data (Google Sheet4)\n",
    "print_ordered_dict(data=genre_stats, top=5) # print data (Google Sheet5)"
   ]
  },
  {
   "cell_type": "code",
   "execution_count": null,
   "metadata": {
    "id": "o2wygffx3plj"
   },
   "outputs": [],
   "source": []
  },
  {
   "cell_type": "code",
   "execution_count": null,
   "metadata": {},
   "outputs": [],
   "source": []
  }
 ],
 "metadata": {
  "colab": {
   "collapsed_sections": [],
   "provenance": []
  },
  "kernelspec": {
   "display_name": "Python 3 (ipykernel)",
   "language": "python",
   "name": "python3"
  },
  "language_info": {
   "codemirror_mode": {
    "name": "ipython",
    "version": 3
   },
   "file_extension": ".py",
   "mimetype": "text/x-python",
   "name": "python",
   "nbconvert_exporter": "python",
   "pygments_lexer": "ipython3",
   "version": "3.10.6"
  },
  "vscode": {
   "interpreter": {
    "hash": "aee8b7b246df8f9039afb4144a1f6fd8d2ca17a180786b69acc140d282b71a49"
   }
  }
 },
 "nbformat": 4,
 "nbformat_minor": 1
}
