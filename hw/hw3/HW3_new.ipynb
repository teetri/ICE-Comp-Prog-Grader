{
  "cells": [
    {
      "cell_type": "markdown",
      "metadata": {
        "id": "xaO6ydwuTSae"
      },
      "source": [
        "# Assignment #3: Movie Dictionary Database\n",
        "\n",
        "In this problem, we aim to load movie data into a dictionary and summarize it by genre.\n",
        "\n",
        "Please read all the details [here](https://docs.google.com/document/d/1FGQUzzsBuDdVCoW7nJG6IHDnlbJd58Q9BS76gMlS01A/edit?usp=sharing)."
      ]
    },
    {
      "cell_type": "markdown",
      "metadata": {
        "id": "YAq-m9r53V0E"
      },
      "source": [
        "# **Important**\n",
        "- Do not delete or modify the first line in the given code cell.\n",
        "- You work must be add in the provided area only. \n",
        "- You must not change the declaration of the provided functions.\n",
        "- You are allowed to add your own functions.\n",
        "- If you want to write your own program to test, add new code cell at the very end of the file and add your code there.\n"
      ]
    },
    {
      "cell_type": "code",
      "execution_count": null,
      "metadata": {
        "id": "-CyvL6w9BEEu"
      },
      "outputs": [],
      "source": [
        "# Full data (import_movies.redis)\n",
        "# !curl https://raw.githubusercontent.com/redis-developer/redis-datasets/movie-dataset/movie-database/import_movies.redis > import_movies.redis\n",
        "\n",
        "# file = open(\"import_movies.redis\", encoding='utf8')\n",
        "# lines = file.readlines()\n",
        "# file.close()"
      ]
    },
    {
      "cell_type": "code",
      "execution_count": null,
      "metadata": {
        "id": "Wo7aBYsTBak0"
      },
      "outputs": [],
      "source": [
        "# Small sample data (import_movies_small.redis)\n",
        "!curl https://dl.dropboxusercontent.com/s/id6d0qq7ks5y4b3/import_movies_small.redis > import_movies_small.redis\n",
        "\n",
        "file = open(\"import_movies_small.redis\", encoding='utf8')\n",
        "lines = file.readlines()\n",
        "file.close()"
      ]
    },
    {
      "cell_type": "code",
      "execution_count": null,
      "metadata": {
        "id": "a5V__-HASKdD"
      },
      "outputs": [],
      "source": [
        "# # preview 10 movies\n",
        "lines[:10]"
      ]
    },
    {
      "cell_type": "code",
      "execution_count": null,
      "metadata": {
        "id": "eDJ-MTlRPaut"
      },
      "outputs": [],
      "source": [
        "# MOVIE_DICTIONARY (*** DO NOT DELETE this line or add line before this ***)\n",
        "# Only add your code in the provided area.\n",
        "# DO NOT delete or modified the given code in main().\n",
        "\n",
        "def load_data_to_movie_dict(lines):\n",
        "  movies = dict()\n",
        "  # Your code here\n",
        "\n",
        "  return movies\n",
        "\n",
        "#------------------------------------------------------------#\n",
        "\n",
        "def summarize_movies_by_genre(movies):\n",
        "  movies_by_genre = dict()\n",
        "  # Your code here\n",
        "  \n",
        "  return movies_by_genre\n",
        "\n",
        "#------------------------------------------------------------#\n",
        "\n",
        "def calcualte_genre_stats(movies, movies_by_genre):\n",
        "  genre_stats = dict()\n",
        "  # Your code here\n",
        "  \n",
        "  return genre_stats\n",
        "\n",
        "#------------------------------------------------------------#    \n",
        "# DO NOT DELETE OR MODIFIED THE CODE BELOW\n",
        "#------------------------------------------------------------#\n",
        "\n",
        "from collections import OrderedDict\n",
        "\n",
        "# print \"data\" dict ordered by key\n",
        "# if top is blank, print all members in the data\n",
        "# if details is true, print detailed data\n",
        "#   ; otherwise, print only the number of attributes\n",
        "def print_ordered_dict(data, top='', details=True):\n",
        "  if top == '':\n",
        "    top = len(data)\n",
        "  sorted_ids = sorted(data.keys())[:top]\n",
        "\n",
        "  i = 0\n",
        "  for id in sorted_ids:\n",
        "    if details:\n",
        "      print(id, data[id])\n",
        "    else:\n",
        "      print(id, len(data[id]))\n",
        "\n",
        "#------------------------------------------------------------#\n",
        "# *** MAIN PART ****\n",
        "movies = load_data_to_movie_dict(lines)\n",
        "movies_by_genre = summarize_movies_by_genre(movies)\n",
        "genre_stats = calcualte_genre_stats(movies, movies_by_genre)"
      ]
    },
    {
      "cell_type": "markdown",
      "metadata": {
        "id": "eozJNmMD8hkv"
      },
      "source": [
        "# Test you code\n",
        "\n",
        "To speed up the testing of your program, some of test cases of some functions are given, but might not cover all possibilies.  You should add more test cases using provided test case as an example. \n",
        "\n",
        "Uncomment the test function that you want to test. You results should be similar to the expected output in [the Google Sheet here](https://docs.google.com/spreadsheets/d/1enpJps0zUN0SjZcgMPO9ijzgcDruyO2jsAHazWx1yhY/edit?usp=sharing).\n",
        "\n",
        "**Important!!!** You must run the above code cell without any error before running the test."
      ]
    },
    {
      "cell_type": "code",
      "execution_count": null,
      "metadata": {
        "id": "V3r47d2Ge36M"
      },
      "outputs": [],
      "source": [
        "print(len(movies))\n",
        "# print_ordered_dict(data=movies, top=200, details=False) # print attributes (Google Sheet1)\n",
        "# print_ordered_dict(data=movies, top=200, details=True) # print data (Google Sheet2)\n",
        " \n",
        "print(len(movies_by_genre))\n",
        "# print_ordered_dict(data=movies_by_genre, top=5, details=False) # print attributes (Google Sheet3)\n",
        "# print_ordered_dict(data=movies_by_genre, top=5) # print data (Google Sheet4)\n",
        "# print_ordered_dict(data=genre_stats, top=5) # print data (Google Sheet5)"
      ]
    },
    {
      "cell_type": "code",
      "execution_count": null,
      "metadata": {
        "id": "o2wygffx3plj"
      },
      "outputs": [],
      "source": []
    }
  ],
  "metadata": {
    "colab": {
      "collapsed_sections": [],
      "provenance": []
    },
    "kernelspec": {
      "display_name": "Python 3.10.6 64-bit",
      "language": "python",
      "name": "python3"
    },
    "language_info": {
      "name": "python",
      "version": "3.10.6"
    },
    "vscode": {
      "interpreter": {
        "hash": "aee8b7b246df8f9039afb4144a1f6fd8d2ca17a180786b69acc140d282b71a49"
      }
    }
  },
  "nbformat": 4,
  "nbformat_minor": 0
}
