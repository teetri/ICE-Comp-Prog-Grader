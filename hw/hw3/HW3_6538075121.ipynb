{
  "cells": [
    {
      "cell_type": "markdown",
      "metadata": {
        "id": "xaO6ydwuTSae"
      },
      "source": [
        "# Assignment #3: Movie Dictionary Database\n",
        "\n",
        "In this problem, we aim to load movie data into a dictionary and summarize it by genre.\n",
        "\n",
        "Please read all the details [here](https://docs.google.com/document/d/1FGQUzzsBuDdVCoW7nJG6IHDnlbJd58Q9BS76gMlS01A/edit?usp=sharing)."
      ]
    },
    {
      "cell_type": "markdown",
      "metadata": {
        "id": "YAq-m9r53V0E"
      },
      "source": [
        "# **Important**\n",
        "- Do not delete or modify the first line in the given code cell.\n",
        "- You work must be add in the provided area only. \n",
        "- You must not change the declaration of the provided functions.\n",
        "- You are allowed to add your own functions.\n",
        "- If you want to write your own program to test, add new code cell at the very end of the file and add your code there.\n"
      ]
    },
    {
      "cell_type": "code",
      "execution_count": null,
      "metadata": {
        "id": "-CyvL6w9BEEu"
      },
      "outputs": [],
      "source": [
        "# Full data (import_movies.redis)\n",
        "# !curl https://raw.githubusercontent.com/redis-developer/redis-datasets/movie-dataset/movie-database/import_movies.redis > import_movies.redis\n",
        "\n",
        "# file = open(\"import_movies.redis\", encoding='utf8')\n",
        "# lines = file.readlines()\n",
        "# file.close()"
      ]
    },
    {
      "cell_type": "code",
      "execution_count": null,
      "metadata": {
        "id": "Wo7aBYsTBak0"
      },
      "outputs": [],
      "source": [
        "# Small sample data (import_movies_small.redis)\n",
        "!curl https://dl.dropboxusercontent.com/s/id6d0qq7ks5y4b3/import_movies_small.redis > import_movies_small.redis\n",
        "\n",
        "file = open(\"import_movies_small.redis\", encoding='utf8')\n",
        "lines = file.readlines()\n",
        "file.close()"
      ]
    },
    {
      "cell_type": "code",
      "execution_count": null,
      "metadata": {
        "id": "a5V__-HASKdD"
      },
      "outputs": [],
      "source": [
        "# # preview 10 movies\n",
        "lines[:10]"
      ]
    },
    {
      "cell_type": "code",
      "execution_count": null,
      "metadata": {
        "id": "eDJ-MTlRPaut"
      },
      "outputs": [],
      "source": [
        "# MOVIE_DICTIONARY (*** DO NOT DELETE this line or add line before this ***)\n",
        "# Only add your code in the provided area.\n",
        "# DO NOT delete or modified the given code in main().\n",
        "\n",
        "def load_data_to_movie_dict(lines):\n",
        "    movies = dict()\n",
        "  # Your code here\n",
        "\n",
        "    def replace_all(text, dic):\n",
        "        for i, j in dic.items():\n",
        "            text = text.replace(i, j, 1)\n",
        "        return text\n",
        "\n",
        "    keySep = {\n",
        "        'movie_id': '|movie_id^',\n",
        "        ' title ': '|title^',\n",
        "        ' genre ': '|genre^',\n",
        "        ' votes ': '|votes^',\n",
        "        ' rating ': '|rating^',\n",
        "        ' release_year ': '|release_year^',\n",
        "        ' plot ': '|plot^',\n",
        "        ' poster ': '|poster^',\n",
        "        ' ibmdb_id ': '|ibmdb_id^'\n",
        "    }\n",
        "\n",
        "    def cleanLine(line):\n",
        "        line = line.replace('HSET ', '')\n",
        "        line = line.replace('movie:', 'movie_id')\n",
        "        line = line.replace('\"', '')\n",
        "        line = line.replace('\\\\', '')\n",
        "        line = replace_all(line, keySep)\n",
        "        line = line.split('|')\n",
        "        return line\n",
        "\n",
        "    def toPairs(line):\n",
        "        pairs = []\n",
        "        for i in line:\n",
        "            if i != '':\n",
        "                pairs.append(i.split('^'))\n",
        "        return pairs\n",
        "\n",
        "    def toDict(pairs):\n",
        "        d = {}\n",
        "        # print()\n",
        "        for i in pairs:\n",
        "            # print(i)\n",
        "            # print(i[0].strip(), i[1].strip())\n",
        "            # print()\n",
        "            d[i[0].strip()] = i[1].strip()\n",
        "        return d\n",
        "\n",
        "    def toCorrectType(line):\n",
        "        try:\n",
        "            line['movie_id'] = int(line['movie_id'])\n",
        "        except:\n",
        "            pass\n",
        "        try:\n",
        "            line['votes'] = float(line['votes'])\n",
        "        except:\n",
        "            pass\n",
        "        try:\n",
        "            line['rating'] = float(line['rating'])\n",
        "        except:\n",
        "            pass\n",
        "        try:\n",
        "            line['release_year'] = int(line['release_year'])\n",
        "        except:\n",
        "            pass\n",
        "        return line\n",
        "\n",
        "    def parseLine(line):\n",
        "        line = cleanLine(line)\n",
        "        # print(line)\n",
        "        # print()\n",
        "        line = toPairs(line)\n",
        "        # print(line)\n",
        "        # print()\n",
        "        line = toDict(line)\n",
        "        # print(line)\n",
        "        # print()\n",
        "        line = toCorrectType(line)\n",
        "        # print(line)\n",
        "        # print()\n",
        "\n",
        "        return line\n",
        "\n",
        "    lines = [parseLine(line) for line in lines]\n",
        "\n",
        "    def removeMovieID(d):\n",
        "        return {k: v for k, v in d.items() if k != 'movie_id'}\n",
        "\n",
        "    movies = {a['movie_id']: removeMovieID(a) for a in lines}\n",
        "\n",
        "    return movies\n",
        "\n",
        "#------------------------------------------------------------#\n",
        "\n",
        "def summarize_movies_by_genre(movies):\n",
        "    movies_by_genre = dict()\n",
        "  # Your code here\n",
        "\n",
        "    genres = dict()\n",
        "    for movie in movies:\n",
        "        genre = movies[movie]['genre']\n",
        "        if genre not in genres:\n",
        "            genres[genre] = []\n",
        "        genres[genre].append(movie)\n",
        "\n",
        "    movies_by_genre = {k: sorted(v) for k, v in genres.items()}\n",
        "    return movies_by_genre\n",
        "\n",
        "#------------------------------------------------------------#\n",
        "\n",
        "def calcualte_genre_stats(movies, movies_by_genre):\n",
        "    genre_stats = dict()\n",
        "    # Your code here\n",
        "\n",
        "    for genre in movies_by_genre:\n",
        "        genre_stats[genre] = dict()\n",
        "        count = len(movies_by_genre[genre])\n",
        "        avg_rating = 0\n",
        "        avg_votes = 0\n",
        "        for movie in movies_by_genre[genre]:\n",
        "            # print(type(movies[movie]['rating']))\n",
        "            # print(movie)\n",
        "            avg_rating += movies[movie]['rating']\n",
        "            avg_votes += movies[movie]['votes']\n",
        "        avg_rating /= count\n",
        "        avg_votes /= count\n",
        "        genre_stats[genre]['num'] = count\n",
        "        genre_stats[genre]['rating'] = round(avg_rating, 2)\n",
        "        genre_stats[genre]['votes'] = round(avg_votes, 2)\n",
        "  \n",
        "    return genre_stats\n",
        "\n",
        "#------------------------------------------------------------#    \n",
        "# DO NOT DELETE OR MODIFIED THE CODE BELOW\n",
        "#------------------------------------------------------------#\n",
        "\n",
        "from collections import OrderedDict\n",
        "\n",
        "# print \"data\" dict ordered by key\n",
        "# if top is blank, print all members in the data\n",
        "# if details is true, print detailed data\n",
        "#   ; otherwise, print only the number of attributes\n",
        "def print_ordered_dict(data, top='', details=True):\n",
        "  if top == '':\n",
        "    top = len(data)\n",
        "  sorted_ids = sorted(data.keys())[:top]\n",
        "\n",
        "  i = 0\n",
        "  for id in sorted_ids:\n",
        "    if details:\n",
        "      print(id, data[id])\n",
        "    else:\n",
        "      print(id, len(data[id]))\n",
        "\n",
        "#------------------------------------------------------------#\n",
        "# *** MAIN PART ****\n",
        "movies = load_data_to_movie_dict(lines)\n",
        "movies_by_genre = summarize_movies_by_genre(movies)\n",
        "genre_stats = calcualte_genre_stats(movies, movies_by_genre)"
      ]
    },
    {
      "cell_type": "markdown",
      "metadata": {
        "id": "eozJNmMD8hkv"
      },
      "source": [
        "# Test you code\n",
        "\n",
        "To speed up the testing of your program, some of test cases of some functions are given, but might not cover all possibilies.  You should add more test cases using provided test case as an example. \n",
        "\n",
        "Uncomment the test function that you want to test. You results should be similar to the expected output in [the Google Sheet here](https://docs.google.com/spreadsheets/d/1enpJps0zUN0SjZcgMPO9ijzgcDruyO2jsAHazWx1yhY/edit?usp=sharing).\n",
        "\n",
        "**Important!!!** You must run the above code cell without any error before running the test."
      ]
    },
    {
      "cell_type": "code",
      "execution_count": null,
      "metadata": {
        "id": "V3r47d2Ge36M"
      },
      "outputs": [],
      "source": [
        "print(len(movies))\n",
        "print_ordered_dict(data=movies, top=200, details=False) # print attributes (Google Sheet1)\n",
        "print_ordered_dict(data=movies, top=200, details=True) # print data (Google Sheet2)\n",
        " \n",
        "print(len(movies_by_genre))\n",
        "print_ordered_dict(data=movies_by_genre, top=5, details=False) # print attributes (Google Sheet3)\n",
        "print_ordered_dict(data=movies_by_genre, top=5) # print data (Google Sheet4)\n",
        "print_ordered_dict(data=genre_stats, top=5) # print data (Google Sheet5)"
      ]
    },
    {
      "cell_type": "code",
      "execution_count": null,
      "metadata": {
        "id": "o2wygffx3plj"
      },
      "outputs": [],
      "source": []
    }
  ],
  "metadata": {
    "colab": {
      "collapsed_sections": [],
      "provenance": []
    },
    "kernelspec": {
      "display_name": "Python 3.10.6 64-bit",
      "language": "python",
      "name": "python3"
    },
    "language_info": {
      "codemirror_mode": {
        "name": "ipython",
        "version": 3
      },
      "file_extension": ".py",
      "mimetype": "text/x-python",
      "name": "python",
      "nbconvert_exporter": "python",
      "pygments_lexer": "ipython3",
      "version": "3.10.6"
    },
    "vscode": {
      "interpreter": {
        "hash": "aee8b7b246df8f9039afb4144a1f6fd8d2ca17a180786b69acc140d282b71a49"
      }
    }
  },
  "nbformat": 4,
  "nbformat_minor": 0
}
